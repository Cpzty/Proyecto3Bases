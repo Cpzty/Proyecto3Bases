{
 "cells": [
  {
   "cell_type": "code",
   "execution_count": 29,
   "metadata": {},
   "outputs": [
    {
     "name": "stdout",
     "output_type": "stream",
     "text": [
      "Table created successfully\n"
     ]
    }
   ],
   "source": [
    "import psycopg2\n",
    "conn = psycopg2.connect(\"dbname=testing user=postgres host =localhost\")\n",
    "cur = conn.cursor()\n",
    "cur.execute('''CREATE TABLE COMPANY2\n",
    "      (ID INT PRIMARY KEY     ,\n",
    "      NAME           TEXT    ,\n",
    "      AGE            INT     ,\n",
    "      ADDRESS        CHAR(50),\n",
    "      SALARY         REAL);''')\n",
    "print (\"Table created successfully\")\n",
    "\n",
    "conn.commit()\n",
    "\n",
    "\n",
    "conn.close()"
   ]
  },
  {
   "cell_type": "code",
   "execution_count": 32,
   "metadata": {},
   "outputs": [
    {
     "name": "stdout",
     "output_type": "stream",
     "text": [
      "inserted successfully\n"
     ]
    }
   ],
   "source": [
    "import psycopg2\n",
    "conn = psycopg2.connect(\"dbname=testing user=postgres host =localhost\")\n",
    "cur = conn.cursor()\n",
    "cur.execute(\"INSERT INTO company2 (id) VALUES (2);\")\n",
    "conn.commit()\n",
    "print (\"inserted successfully\")\n",
    "\n",
    "\n",
    "\n",
    "conn.close()"
   ]
  },
  {
   "cell_type": "code",
   "execution_count": null,
   "metadata": {},
   "outputs": [],
   "source": []
  }
 ],
 "metadata": {
  "kernelspec": {
   "display_name": "Python 2",
   "language": "python",
   "name": "python2"
  },
  "language_info": {
   "codemirror_mode": {
    "name": "ipython",
    "version": 2
   },
   "file_extension": ".py",
   "mimetype": "text/x-python",
   "name": "python",
   "nbconvert_exporter": "python",
   "pygments_lexer": "ipython2",
   "version": "2.7.14"
  }
 },
 "nbformat": 4,
 "nbformat_minor": 2
}
